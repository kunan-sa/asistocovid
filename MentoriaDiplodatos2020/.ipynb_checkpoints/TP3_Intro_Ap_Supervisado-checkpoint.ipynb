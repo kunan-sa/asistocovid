{
 "cells": [
  {
   "cell_type": "markdown",
   "metadata": {},
   "source": [
    "### Introducción al Aprendizaje Supervisado\n",
    "\n",
    "\n",
    "Tomando el DATASET1:\n",
    "\n",
    "Primero conviene leer todos los puntos, ya que el 3 y el 4 corresponden a un mismo desarrollo.\n",
    "* 1- Pequeño agregado al tp2: sería deseable conservar en los índices de las filas de la matriz n-samples x n-features un identificador que relacione la fila con la frase original. Ésto sirve para tomar frases testigos y poder ver frases más cercanas por ejemplo. Pueden usar los ids originales de las frases o hacer unos propios. \n",
    "* 2- Las matrices conseguidas a partir de tfidf o countvectorizer son muy sparsas. Es deseable probar distintas técnicas de reducción de dimensión. Por ejemplo: sklearn TruncatedSVD u otros. La matriz reducida puede probarse como un componente más en el pipeline de clasificación.\n",
    "* 3- Podríamos querer detectar en un futuro aquellas frases del usuario con connotación de violencia o violencia de genero. Para ello podemos empezar a definir nuestros datos en las categorías: violencia/no violencia ó violencia de genero/no vdg. En éste punto necesitarán redefinir sus labels según el objetivo buscado. Se sabe que para análisis de sentimiento Naive Bayes es muy usado. La propuesta es implementar distintos clasificadores, entre ellos uno de tipo Naive Bayes y otros para categorizar los ejemplos o ya sea asignarle a cada frase una probabilidad de pertenecer a una de estas clases. (Antes lea el punto 4)\n",
    "    * Primero defina bien qué tipo de problema de ML se plantea.\n",
    "* 4- Como es conocido en ML hay que dividir el dataset de forma aleatoria en conjuntos de entrenamiento, validación y test. Previamente conviene analizar si hay desbalanceo de clases, ya que en tal caso conviene conservar una misma proporción de ejemplos por categoría dentro de cada partición.\n",
    "    * Entonces, analizar si hay desbalanceo de clases.\n",
    "    * No hay desbalanceo: train_test_split dividiendo en train, validation, test /Ó cross validation\n",
    "    * Hay desbalanceo: explorar un stratified samplig. En sklearn esta: sklearn.model_selection.StratifiedKFold (una cross validation)\n",
    "* 5- Elegir las métricas adecuadas para comparar la performance de sus clasificadores y mostrar las matrices de confusión. Comentar resultados.\n",
    "\n",
    "__Key Words:__\n",
    "* sklearn TruncatedSVD\n",
    "* stratified samplig\n",
    "* Multinomial Naive Bayes\n",
    "\n",
    "__Links:__\n",
    "* https://scikit-learn.org/stable/modules/classes.html#module-sklearn.model_selection\n"
   ]
  },
  {
   "cell_type": "code",
   "execution_count": null,
   "metadata": {},
   "outputs": [],
   "source": []
  }
 ],
 "metadata": {
  "kernelspec": {
   "display_name": "Python 3",
   "language": "python",
   "name": "python3"
  },
  "language_info": {
   "codemirror_mode": {
    "name": "ipython",
    "version": 3
   },
   "file_extension": ".py",
   "mimetype": "text/x-python",
   "name": "python",
   "nbconvert_exporter": "python",
   "pygments_lexer": "ipython3",
   "version": "3.6.9"
  }
 },
 "nbformat": 4,
 "nbformat_minor": 4
}
