{
 "cells": [
  {
   "cell_type": "markdown",
   "metadata": {},
   "source": [
    "### Análisis y visualización de datos\n",
    "\n",
    "Teniendo en mente los objetivos planteados una buena forma de comenzar es analizar el dataset. \n",
    "\n",
    "Por un lado, si bien el dataset de por sí no tiene campos numéricos, se pueden definir algunas variables de interés sobre el corpus y hacer un análisis para explorarlas mejor. Con ésto se puede tener más información sobre los inicios del asistente y su proceso de entrenamiento continuo. Considerar para cada punto no solo las medidas estadísticas sino también visualizaciones acordes.\n",
    "* 1- Frecuencia de las palabras usadas por los usuarios y por el bot.\n",
    "    - Gráfico de frecuencias, qué distribución podría tener la variable?\n",
    "    - Se podría tomar además alguna visualización de las frecuencias y su cambio con la variable tiempo. \n",
    "    - Puede además incluir nubes de palabras.\n",
    "* 2- Cantidad de eventos o conversaciones por fecha, con lo que se podría observar la evolución del asistente en el tiempo.\n",
    "* 3- Cantidad de respuestas fallidas del bot por fecha.\n",
    "* 4- Se correlaciona la evolución en el tiempo del asistente con la cantidad de respuestas fallidas?\n",
    "* 5- Otra variable interesante para explorar y que esta relacionada con la mejora en la predicción del asistente es la confidence.\n",
    "\n",
    "Por otro, en lenguaje natural se comienza por preprocesar los datos para resaltar características de interés para un problema en particular. Se plantear iterar con el punto 1- y el preprocesamiento para ir viendo como cambian los datos al tomar distintas decisiones de diseño. Dentro del preprocesamiento se puede:\n",
    "- eliminar o no las stopwords\n",
    "- reemplazar caracteres con mucha variabilidad por categorías, por ejemplo, los números por la palabra dígito\n",
    "- hacer todo minúsculas\n",
    "- eliminar o no puntuación\n",
    "- lemmatizar las palabras, reemplazarlas por su palabra raíz\n",
    "\n",
    "__Librerías:__\n",
    "Como guía pueden explorar las siguientes librerías para el preprocesamiento:\n",
    "* NLTK\n",
    "* Spacy"
   ]
  },
  {
   "cell_type": "code",
   "execution_count": 1,
   "metadata": {},
   "outputs": [],
   "source": [
    "import pandas as pd"
   ]
  },
  {
   "cell_type": "code",
   "execution_count": 3,
   "metadata": {},
   "outputs": [
    {
     "data": {
      "text/html": [
       "<div>\n",
       "<style scoped>\n",
       "    .dataframe tbody tr th:only-of-type {\n",
       "        vertical-align: middle;\n",
       "    }\n",
       "\n",
       "    .dataframe tbody tr th {\n",
       "        vertical-align: top;\n",
       "    }\n",
       "\n",
       "    .dataframe thead th {\n",
       "        text-align: right;\n",
       "    }\n",
       "</style>\n",
       "<table border=\"1\" class=\"dataframe\">\n",
       "  <thead>\n",
       "    <tr style=\"text-align: right;\">\n",
       "      <th></th>\n",
       "      <th>ID_evento</th>\n",
       "      <th>ID_conversacion</th>\n",
       "      <th>evento</th>\n",
       "      <th>categoria</th>\n",
       "      <th>confidence</th>\n",
       "      <th>texto</th>\n",
       "      <th>fecha</th>\n",
       "      <th>hora</th>\n",
       "    </tr>\n",
       "  </thead>\n",
       "  <tbody>\n",
       "    <tr>\n",
       "      <th>0</th>\n",
       "      <td>0</td>\n",
       "      <td>dd9419e4-e2ce-41ff-a873-45ee155b7332</td>\n",
       "      <td>user</td>\n",
       "      <td>ask_mascota</td>\n",
       "      <td>0.536555</td>\n",
       "      <td>puedo ir a pasear mi perro</td>\n",
       "      <td>25-3-2020</td>\n",
       "      <td>17:16:57</td>\n",
       "    </tr>\n",
       "    <tr>\n",
       "      <th>1</th>\n",
       "      <td>1</td>\n",
       "      <td>dd9419e4-e2ce-41ff-a873-45ee155b7332</td>\n",
       "      <td>bot</td>\n",
       "      <td>NaN</td>\n",
       "      <td>NaN</td>\n",
       "      <td>Se puede sacar a pasear a las mascotas minimiz...</td>\n",
       "      <td>25-3-2020</td>\n",
       "      <td>17:16:57</td>\n",
       "    </tr>\n",
       "    <tr>\n",
       "      <th>2</th>\n",
       "      <td>2</td>\n",
       "      <td>dd9419e4-e2ce-41ff-a873-45ee155b7332</td>\n",
       "      <td>user</td>\n",
       "      <td>ask_sintomas</td>\n",
       "      <td>0.378679</td>\n",
       "      <td>como sé si tengo el coronavirus</td>\n",
       "      <td>25-3-2020</td>\n",
       "      <td>17:17:23</td>\n",
       "    </tr>\n",
       "    <tr>\n",
       "      <th>3</th>\n",
       "      <td>3</td>\n",
       "      <td>dd9419e4-e2ce-41ff-a873-45ee155b7332</td>\n",
       "      <td>bot</td>\n",
       "      <td>NaN</td>\n",
       "      <td>NaN</td>\n",
       "      <td>Los síntomas del coronavirus COVID-19 generalm...</td>\n",
       "      <td>25-3-2020</td>\n",
       "      <td>17:17:23</td>\n",
       "    </tr>\n",
       "    <tr>\n",
       "      <th>4</th>\n",
       "      <td>4</td>\n",
       "      <td>dd9419e4-e2ce-41ff-a873-45ee155b7332</td>\n",
       "      <td>user</td>\n",
       "      <td>ask_aislamiento</td>\n",
       "      <td>0.478023</td>\n",
       "      <td>Puedo ir a visitar otra gente?</td>\n",
       "      <td>25-3-2020</td>\n",
       "      <td>17:18:4</td>\n",
       "    </tr>\n",
       "  </tbody>\n",
       "</table>\n",
       "</div>"
      ],
      "text/plain": [
       "   ID_evento                       ID_conversacion evento        categoria  \\\n",
       "0          0  dd9419e4-e2ce-41ff-a873-45ee155b7332   user      ask_mascota   \n",
       "1          1  dd9419e4-e2ce-41ff-a873-45ee155b7332    bot              NaN   \n",
       "2          2  dd9419e4-e2ce-41ff-a873-45ee155b7332   user     ask_sintomas   \n",
       "3          3  dd9419e4-e2ce-41ff-a873-45ee155b7332    bot              NaN   \n",
       "4          4  dd9419e4-e2ce-41ff-a873-45ee155b7332   user  ask_aislamiento   \n",
       "\n",
       "   confidence                                              texto      fecha  \\\n",
       "0    0.536555                         puedo ir a pasear mi perro  25-3-2020   \n",
       "1         NaN  Se puede sacar a pasear a las mascotas minimiz...  25-3-2020   \n",
       "2    0.378679                    como sé si tengo el coronavirus  25-3-2020   \n",
       "3         NaN  Los síntomas del coronavirus COVID-19 generalm...  25-3-2020   \n",
       "4    0.478023                     Puedo ir a visitar otra gente?  25-3-2020   \n",
       "\n",
       "       hora  \n",
       "0  17:16:57  \n",
       "1  17:16:57  \n",
       "2  17:17:23  \n",
       "3  17:17:23  \n",
       "4   17:18:4  "
      ]
     },
     "execution_count": 3,
     "metadata": {},
     "output_type": "execute_result"
    }
   ],
   "source": [
    "df = pd.read_csv(\"../DatasetAsistocovid.csv\")\n",
    "df.head()"
   ]
  },
  {
   "cell_type": "code",
   "execution_count": 4,
   "metadata": {},
   "outputs": [
    {
     "name": "stdout",
     "output_type": "stream",
     "text": [
      "<class 'pandas.core.frame.DataFrame'>\n",
      "RangeIndex: 23379 entries, 0 to 23378\n",
      "Data columns (total 8 columns):\n",
      " #   Column           Non-Null Count  Dtype  \n",
      "---  ------           --------------  -----  \n",
      " 0   ID_evento        23379 non-null  int64  \n",
      " 1   ID_conversacion  23379 non-null  object \n",
      " 2   evento           23379 non-null  object \n",
      " 3   categoria        12534 non-null  object \n",
      " 4   confidence       12537 non-null  float64\n",
      " 5   texto            23376 non-null  object \n",
      " 6   fecha            23379 non-null  object \n",
      " 7   hora             23379 non-null  object \n",
      "dtypes: float64(1), int64(1), object(6)\n",
      "memory usage: 1.4+ MB\n"
     ]
    }
   ],
   "source": [
    "df.info()"
   ]
  },
  {
   "cell_type": "code",
   "execution_count": null,
   "metadata": {},
   "outputs": [],
   "source": []
  }
 ],
 "metadata": {
  "kernelspec": {
   "display_name": "Python 3",
   "language": "python",
   "name": "python3"
  },
  "language_info": {
   "codemirror_mode": {
    "name": "ipython",
    "version": 3
   },
   "file_extension": ".py",
   "mimetype": "text/x-python",
   "name": "python",
   "nbconvert_exporter": "python",
   "pygments_lexer": "ipython3",
   "version": "3.6.9"
  }
 },
 "nbformat": 4,
 "nbformat_minor": 4
}
