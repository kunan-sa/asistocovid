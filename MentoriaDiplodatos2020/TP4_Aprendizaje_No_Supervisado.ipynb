{
 "cells": [
  {
   "cell_type": "markdown",
   "metadata": {},
   "source": [
    "### Aprendizaje No Supervisado\n",
    "\n",
    "En éste punto se busca encontrar aquellos temas de interés del público donde hay falta de\n",
    "información oficial.\n",
    "* 1- En éste punto se puede retomar el dataset2 obtenido en el práctico de _Análisis exploratorio y curación de datos_. Recordamos que el mismo debe haber sido armado con los siguientes criterios:\n",
    "    * Una primera medida sería buscar aquellas preguntas de los usuarios que no fueron respondidas por el bot.\n",
    "    * Dentro de éste conjunto seguro estarán las que nos interesan, más otras no respondidas por falta de entrenamiento del asistente, sobre todo si también se va a incluir la primer etapa de vida del mismo. Por tal motivo se puede decidir no tener en cuenta lar primeras frases donde es muy marcado que el bot esta aprendiendo.\n",
    "    * Para aplicar métodos no supervisados debemos desechar los labels.\n",
    "* 2- Para vectorizar las frases se puede usar nuevamente una de las representaciones obtenidas en la segunda entrega para éste conjunto de frases.\n",
    "* 3- Pruebe algún método para reducir las dimensiones de la matriz.\n",
    "* 4- Compare distintos algoritmos de clustering y obtenga conclusiones de los resultados: agrupamiento de frases, posibles tópicos, etc.\n",
    "    * Considere a la hora de hacer clustering probar tambien con distintas medidas de distancia: tanto euclídea como tambien la distancia coseno muy usada en nlp.\n",
    "    * Para comparar los algoritmos de clustering, un buena idea es tomar algunas frases testigos y ver como son agrupadas.\n",
    "* 5- Pruebe también LDA (está implementado en sklearn) que es específico para descubrir temas en nlp y comente posibles temas encontrados.\n",
    "\n",
    "__Key words:__\n",
    "* Kmeans\n",
    "* SVD\n",
    "* Distancia euclidea\n",
    "* Distancia coseno\n",
    "* LDA\n",
    "\n",
    "__Links:__\n",
    "* https://scikit-learn.org/stable/modules/clustering.html (ver tabla de algoritmos)\n",
    "* https://github.com/kunan-sa/asistocovid/tree/master/NotebooksNLP\n",
    "* https://scikit-learn.org/stable/modules/generated/sklearn.decomposition.TruncatedSVD.html"
   ]
  },
  {
   "cell_type": "code",
   "execution_count": null,
   "metadata": {},
   "outputs": [],
   "source": []
  }
 ],
 "metadata": {
  "kernelspec": {
   "display_name": "Python 3",
   "language": "python",
   "name": "python3"
  },
  "language_info": {
   "codemirror_mode": {
    "name": "ipython",
    "version": 3
   },
   "file_extension": ".py",
   "mimetype": "text/x-python",
   "name": "python",
   "nbconvert_exporter": "python",
   "pygments_lexer": "ipython3",
   "version": "3.6.9"
  }
 },
 "nbformat": 4,
 "nbformat_minor": 4
}
