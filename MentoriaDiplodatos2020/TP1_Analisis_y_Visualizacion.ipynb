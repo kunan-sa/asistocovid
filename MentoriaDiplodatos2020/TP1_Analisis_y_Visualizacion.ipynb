{
 "cells": [
  {
   "cell_type": "markdown",
   "metadata": {},
   "source": [
    "### Análisis y visualización de datos\n",
    "\n",
    "Teniendo en mente los objetivos planteados una buena forma de comenzar es analizar el dataset. \n",
    "\n",
    "Por un lado, si bien el dataset de por sí no tiene campos numéricos, se pueden definir algunas variables de interés sobre el corpus y hacer un análisis para explorarlas mejor. Con ésto se puede tener más información sobre los inicios del asistente y su proceso de entrenamiento continuo. Considerar para cada punto no solo las medidas estadísticas sino también visualizaciones acordes.\n",
    "* 1- Frecuencia de las palabras usadas por los usuarios y por el bot.\n",
    "    - Gráfico de frecuencias, qué distribución podría tener la variable?\n",
    "    - Se podría tomar además alguna visualización de las frecuencias y su cambio con la variable tiempo. \n",
    "    - Puede además incluir nubes de palabras.\n",
    "* 2- Cantidad de eventos o conversaciones por fecha, con lo que se podría observar la evolución del asistente en el tiempo.\n",
    "* 3- Cantidad de respuestas fallidas del bot por fecha.\n",
    "* 4- Se correlaciona la evolución en el tiempo del asistente con la cantidad de respuestas fallidas?\n",
    "* 5- Otra variable interesante para explorar y que esta relacionada con la mejora en la predicción del asistente es la confidence.\n",
    "\n",
    "Por otro, en lenguaje natural se comienza por preprocesar los datos para resaltar características de interés para un problema en particular. Se plantear iterar con el punto 1- y el preprocesamiento para ir viendo como cambian los datos al tomar distintas decisiones de diseño. Dentro del preprocesamiento se puede:\n",
    "- eliminar o no las stopwords\n",
    "- reemplazar caracteres con mucha variabilidad por categorías, por ejemplo, los números por la palabra dígito\n",
    "- hacer todo minúsculas\n",
    "- eliminar o no puntuación\n",
    "- lemmatizar las palabras, reemplazarlas por su palabra raíz\n",
    "\n",
    "__Librerías:__\n",
    "Como guía pueden explorar las siguientes librerías para el preprocesamiento:\n",
    "* NLTK\n",
    "* Spacy"
   ]
  },
  {
   "cell_type": "code",
   "execution_count": null,
   "metadata": {},
   "outputs": [],
   "source": []
  }
 ],
 "metadata": {
  "kernelspec": {
   "display_name": "Python 3",
   "language": "python",
   "name": "python3"
  },
  "language_info": {
   "codemirror_mode": {
    "name": "ipython",
    "version": 3
   },
   "file_extension": ".py",
   "mimetype": "text/x-python",
   "name": "python",
   "nbconvert_exporter": "python",
   "pygments_lexer": "ipython3",
   "version": "3.6.9"
  }
 },
 "nbformat": 4,
 "nbformat_minor": 4
}
