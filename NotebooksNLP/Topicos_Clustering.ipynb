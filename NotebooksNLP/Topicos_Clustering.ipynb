{
 "cells": [
  {
   "cell_type": "markdown",
   "metadata": {},
   "source": [
    "## Clustering de frases no respondidas por el bot\n",
    "\n",
    "En éste caso se prueba vectorizar las frases y agruparlas con clustering.\n",
    "Los pasos seguidos son:\n",
    "- preprocesamiento para tildes\n",
    "- vectorizar los documentos con la matriz tfidf\n",
    "- reducir dimensiones con descomposición de valores singulares conservando una alta varianza de los datos\n",
    "- normalizar la matriz para poder usar la distancia euclidea\n",
    "- hacer clustering con kmeans"
   ]
  },
  {
   "cell_type": "code",
   "execution_count": 1,
   "metadata": {},
   "outputs": [],
   "source": [
    "from time import time\n",
    "from sklearn.decomposition import TruncatedSVD\n",
    "from sklearn.preprocessing import Normalizer\n",
    "from sklearn.feature_extraction.text import TfidfVectorizer\n",
    "from sklearn.pipeline import make_pipeline\n",
    "from sklearn.cluster import KMeans\n",
    "from sklearn import metrics\n",
    "from collections import defaultdict\n",
    "\n",
    "from nltk.corpus import stopwords\n",
    "stop_words = set(stopwords.words('spanish'))"
   ]
  },
  {
   "cell_type": "markdown",
   "metadata": {},
   "source": [
    "Se cargan las frases no respondidas por el bot:"
   ]
  },
  {
   "cell_type": "code",
   "execution_count": 2,
   "metadata": {},
   "outputs": [
    {
     "data": {
      "text/plain": [
       "['Otro', 'PIP', 'what do you do', 'Chau', 'la ferreteria abre?']"
      ]
     },
     "execution_count": 2,
     "metadata": {},
     "output_type": "execute_result"
    }
   ],
   "source": [
    "documents = []\n",
    "with open('./new_intents.txt','rt', encoding='utf8') as f:\n",
    "    for line in f:\n",
    "        documents.append(line.rstrip('\\n'))\n",
    "        \n",
    "documents[:5]"
   ]
  },
  {
   "cell_type": "markdown",
   "metadata": {},
   "source": [
    "Agrego un preprocesamiento para sacar tildes y hacer lowercase. Tfidf quita la puntuación."
   ]
  },
  {
   "cell_type": "code",
   "execution_count": 3,
   "metadata": {},
   "outputs": [],
   "source": [
    "def preprocessing(doc):\n",
    "    doc = doc.lower()\n",
    "    doc = doc.replace('á','a').replace('é','e').replace('í','i').replace('ó','o').replace('ú','u')\n",
    "    return doc\n",
    "\n",
    "documents = [preprocessing(doc) for doc in documents]"
   ]
  },
  {
   "cell_type": "markdown",
   "metadata": {},
   "source": [
    "Se obtiene la matriz de frecuencias pesada:"
   ]
  },
  {
   "cell_type": "code",
   "execution_count": 4,
   "metadata": {},
   "outputs": [
    {
     "name": "stdout",
     "output_type": "stream",
     "text": [
      "Matriz tfidf obtenida en 0.008625seg\n",
      "Nro de filas/documentos: 216  \n",
      "Nro de columnas/tokens 90\n"
     ]
    }
   ],
   "source": [
    "vectorizer = TfidfVectorizer(lowercase=True, ngram_range=(1, 1), max_df=0.9, min_df=2, stop_words=stop_words )\n",
    "\n",
    "t0 = time()\n",
    "X = vectorizer.fit_transform(documents)\n",
    "print(\"Matriz tfidf obtenida en %fseg\" % (time() - t0))\n",
    "print(\"Nro de filas/documentos: %s  \\nNro de columnas/tokens %s\" % X.toarray().shape)"
   ]
  },
  {
   "cell_type": "markdown",
   "metadata": {},
   "source": [
    "Un ejemplo de como esta funcionando el vectorizador:"
   ]
  },
  {
   "cell_type": "code",
   "execution_count": 5,
   "metadata": {},
   "outputs": [
    {
     "data": {
      "text/plain": [
       "['documento', 'nuevo', 'mamá']"
      ]
     },
     "execution_count": 5,
     "metadata": {},
     "output_type": "execute_result"
    }
   ],
   "source": [
    "analyze = vectorizer.build_analyzer()\n",
    "analyze(\"Este es un doCumento nuevo?. mamá\")"
   ]
  },
  {
   "cell_type": "code",
   "execution_count": 6,
   "metadata": {},
   "outputs": [],
   "source": [
    "# tokens considerados:\n",
    "# vectorizer.get_feature_names()"
   ]
  },
  {
   "cell_type": "code",
   "execution_count": 7,
   "metadata": {},
   "outputs": [
    {
     "name": "stdout",
     "output_type": "stream",
     "text": [
      "Reduccion con LSA obtenida en 0.040613seg\n",
      "Nro de filas/documentos: 216  \n",
      "Nro de columnas/features 50\n"
     ]
    }
   ],
   "source": [
    "t0 = time()\n",
    "svd = TruncatedSVD(n_components=50, algorithm='randomized', n_iter=5, random_state=12)\n",
    "normalizer = Normalizer(copy=False) # kmeans de sklearn no tiene dist coseno\n",
    "lsa = make_pipeline(svd, normalizer)\n",
    "\n",
    "X1 = lsa.fit_transform(X)\n",
    "print(\"Reduccion con LSA obtenida en %fseg\" % (time() - t0))\n",
    "print(\"Nro de filas/documentos: %s  \\nNro de columnas/features %s\" % X1.shape)"
   ]
  },
  {
   "cell_type": "code",
   "execution_count": 8,
   "metadata": {},
   "outputs": [
    {
     "name": "stdout",
     "output_type": "stream",
     "text": [
      "Varianza explicada por SVD: 84%\n"
     ]
    }
   ],
   "source": [
    "explained_variance = svd.explained_variance_ratio_.sum()\n",
    "print(\"Varianza explicada por SVD: {}%\".format(int(explained_variance * 100)))"
   ]
  },
  {
   "cell_type": "code",
   "execution_count": 9,
   "metadata": {},
   "outputs": [
    {
     "data": {
      "text/plain": [
       "KMeans(algorithm='auto', copy_x=True, init='k-means++', max_iter=200,\n",
       "       n_clusters=30, n_init=5, n_jobs=None, precompute_distances='auto',\n",
       "       random_state=12, tol=0.0001, verbose=False)"
      ]
     },
     "execution_count": 9,
     "metadata": {},
     "output_type": "execute_result"
    }
   ],
   "source": [
    "km_clust = KMeans(n_clusters=30, init='k-means++', n_init=5, max_iter=200, verbose=False, random_state=12)\n",
    "km_clust.fit(X1)"
   ]
  },
  {
   "cell_type": "code",
   "execution_count": 10,
   "metadata": {},
   "outputs": [
    {
     "name": "stdout",
     "output_type": "stream",
     "text": [
      "Cluster 1: \n",
      " ['otro', 'pip', 'chau', 'la ferreteria abre?', 'cual es el mejor tapabocas', 'comoy', 'medidas preventivas', 'horarios de atencion en hospitales', 'que telefono utiles hay', 'asshole', 'donde pido autorizacion para salir?', 'y el kiosko?', 'no, es cierto esta enfermedad', 'queres el cocido?', 'dolar', 'contagio', 'medidas de higiene', 'buena respuesta', 'china', 'hay que usar tapaboca', 'dqle', 'imformacion', 'quiero salir a la calle', 'como evito el contagio', 'como es el lavado correcto de manos', 'sos un maquina?', 'hi', 'como me cudio?', 'porfavor', 'mui ben', 'puto', '¿produce resfrio?', 'como se cura', 'bicicleta', 'ah re que no soy karen.', 'la saliva contaminada penetra en la piel', 'hey', 'cubre nariz boca es necesario', 'remedy for coronacirus', 'niños', 'que es transmision en conglomerados?', '¿es verdad esta enfermedad?', 'diarrea', 'casa', 'quisiera saber el numero de afectados por covid en argentina', 'autorizacion para circular', 'mortal!', 'agregar ante una felicitacion, que responda gracias!', 'estoy embarazada, hay riesgos?', 'como me curo', 'como me cuido', 'existe algun medicamento para tratarlo', 'cura', 'me contas un chiste?', 'testing', 'nuevas excepcion', 'soy karen', 'es necesario el tapaboca', 'cuido?', 'que es un respirador', 'es igual cloro que lavandina', 'informacion', 'tengo civid?', 'el sexo trasnmite el corona?', 'unsa', 'cloro', 'cuando vuelven las clases presenciales', 'italia', 'me quiero matar', 'me podrias dar alguna recomendacion importante', 'que es distanciamiento social?', 'esta abierta las estaciones de servicio?', 'when will this be over?', 'fuck', 'sabes algo de mi vecina?', 'cuando termina esti?', 'andres oliva', 'numero de enfermos', 'es obligatorio el tapaboca', 'soy rugbier. le tengo que pegar a la gente que esta en mi casa?', 'reset', 'de mi?', 'que haces?', 'muestra', 'es verdad que suspendieron el pip?', 'new', 'como lo elimino?', 'como me comunico con ustedes', 'como', 'tengo anciedad']\n",
      "\n",
      "Cluster 24: \n",
      " ['what do you do', 'nos tomamos una coca?', 'dale', 'estadistica', 'hables engles?']\n",
      "\n",
      "Cluster 14: \n",
      " ['que hago en casa ?', 'soy pobre que hago', 'si soy asmatica soy de riesgo?', 'que hago si viaje al exterior']\n",
      "\n",
      "Cluster 28: \n",
      " ['puedo asistir a una guardia si me siento mal?', 'como se hace un barbijo', 'mi novio ne hace sentir mal', 'esta mal el grafico de la evolucion por dia.', 'hace falta permiso para ir hasta rapipago mas cercano?']\n",
      "\n",
      "Cluster 4: \n",
      " ['puedo ir al mecanico?', 'puedo ir a arreglar el auto?', 'puedo ir al kiosco?', 'puedo ir al odontologo?', 'puedo cuidar a un mayor', 'puedo ir al cajero', 'como ago para ir a la optica']\n",
      "\n",
      "Cluster 23: \n",
      " ['se puede viajar en transporte', 'tinder garchar se puede', 'se puede salir al cine', 'se puede ir a la ferrerteria?']\n",
      "\n",
      "Cluster 2: \n",
      " ['¿quien realiza los analisis de covid-19?', 'what is government doing on covid-19', 'sabes que es covid-19', '¿donde en la provincia de cordoba se puede realizar el test de covid-19?', '¿donde se realizan los test de covid-19?', 'que es el covid-19', 'crees que tengo covid?', 'centros de atencion habilitados para covid 19', 'que es el covid-19']\n",
      "\n",
      "Cluster 20: \n",
      " ['contame sobre el coronavirus', 'coronavirus en chile', 'chile']\n",
      "\n",
      "Cluster 7: \n",
      " ['barbijos', 'hay que llevar barbijos?', 'hay algun problema con los barbijos', 'es necesario usar barbijos en cordoba', 'y los barbijos?', 'barbijos', 'los policias tienen que usar barbijos?']\n",
      "\n",
      "Cluster 3: \n",
      " ['sirve la vacuna bcg para disminuir chances de contraer coronavirus', 'hay vacuna', 'sirve la aspirina?']\n",
      "\n",
      "Cluster 27: \n",
      " ['test isopado', 'take test', 'me puedo hacer un test?']\n",
      "\n",
      "Cluster 8: \n",
      " ['finalizacion de la cuarentena', 'actividades esenciales cuarentena', 'se extendio la cuarentena', 'queria consultar hasta cuando dura la cuarentena?']\n",
      "\n",
      "Cluster 25: \n",
      " ['tenes algo para proponerme?', 'si tenes fiebre a donde vas', 'si tenes mutual , a donde concurris']\n",
      "\n",
      "Cluster 16: \n",
      " ['cuanto tiempo permanece el virus en las siperficies?', 'si tomas agua con el virus podes contagiarte?', 'como prevenir corona virus', 'afectados por el virus en la ciudad de cordoba?', 'como se contagia el virus por via sexual?']\n",
      "\n",
      "Cluster 13: \n",
      " ['ok', 'ok disculpame', 'ok']\n",
      "\n",
      "Cluster 26: \n",
      " ['estan abiertos los gimnasios', 'estan abiertos los supermercados?', 'y los gimnasios']\n",
      "\n",
      "Cluster 17: \n",
      " ['estan abierto los rapipago', 'estan abierto los rapi pagos', 'esta abierto el kiosko?', 'estan abierto los rapipagos']\n",
      "\n",
      "Cluster 0: \n",
      " ['hola asistente ¿tienes nombre? necesito saber cuales son las actividades liberadas ya sea para comprar, servicios, pagos, transporte, actividad fisica, etc. y la forma de hacerlo. por ejemplo ¿como hago para arreglar mis lentes? mi nombre es horacio y tengo 59 años y soy de cordoba capital. av velez sarfield 3200', 'hola, cuantas camas hay en cordoba', 'hola quisiera saber cuantos casos de coronavirus hay en cordoba', 'hola. estan autorizadas a trabajar las peluquerias?']\n",
      "\n",
      "Cluster 12: \n",
      " ['puedo llevar el auto al taller', 'puedo llevar el auto al taller?', 'tenemos que llevar barbijo?']\n",
      "\n",
      "Cluster 6: \n",
      " ['si todo bien', 'esta bien', 'bien', 'no me siento bien', 'no me siento bien']\n",
      "\n",
      "Cluster 29: \n",
      " ['cuantos infectados hay en cordoba????', 'que es el covid19', 'cuantos covid19 hay en cordoba', 'infectados en cordoba?']\n",
      "\n",
      "Cluster 19: \n",
      " ['tasa de mortalidad?', 'cual es la tasa de mortalidad', 'mortalidad', 'tasa de mortalidad']\n",
      "\n",
      "Cluster 11: \n",
      " ['los fisioterapeuta pueden trabajar', 'se pueden usar tapabocas', 'las bolsas del super pueden tener el virus?', 'se pueden usar los cubrebocas', 'los menores pueden contraer el virus?', 'los menores se contagian?']\n",
      "\n",
      "Cluster 15: \n",
      " ['estan abiertas las fronteras con otros paises?', 'estan abiertas las ferreterias?', 'estan abiertas las ferreterias', '¿estan abiertas las tiendas de comestibles?']\n",
      "\n",
      "Cluster 18: \n",
      " ['se infecto', 'cuanto personal de salud en cordoba se infecto', 'cuanto dura el aislamiento']\n",
      "\n",
      "Cluster 5: \n",
      " ['como debo cuidarme?', 'me hicieron hisopado debo ir al trabajo ?', 'como debo desinfectar el dinero en efectivo', 'para que casos debo sacarlo para comprar alimentos', 'a que distancia debo mantenerme de una persona', 'estoy trabajando me hacen hisopado porque hay sospechas en otro empleado. debo seguir trabajando hasta el resultad']\n",
      "\n",
      "Cluster 21: \n",
      " ['felicitaciones!!!', 'felicitaciones!!', 'felicitaciones dani!!!!!!!']\n",
      "\n",
      "Cluster 22: \n",
      " ['are shop open', 'are the grocery stores open?', 'are grocery stores open?']\n",
      "\n",
      "Cluster 9: \n",
      " ['actividades que puedo hacer', 'que  hacer en  caso de tener los sintomas ?', 'que puedo hacer para no deprimirme', 'que se puede hacer?', 'que hacer', 'como puedo hacer para trasladar mi hija a la casa de su padre?']\n",
      "\n",
      "Cluster 10: \n",
      " ['uso de barbiju', 'es obligatorio el uso del barbijo', 'es obligatorio el uso de barbijo?']\n",
      "\n"
     ]
    }
   ],
   "source": [
    "labels = km_clust.labels_\n",
    "\n",
    "clusterer = zip(documents,labels)\n",
    "clusters = defaultdict(lambda: [])\n",
    "for tup in clusterer:\n",
    "    clusters[tup[1]].append(tup[0])\n",
    "    \n",
    "for k,v in clusters.items():\n",
    "    print('Cluster {}: \\n {}'.format(k,v), end='\\n\\n')"
   ]
  },
  {
   "cell_type": "markdown",
   "metadata": {},
   "source": [
    "Los clusters formados se deben al uso de palabras similares en las frases. Ésto es por como se armó el proceso. Son más claros los temas que está preguntando la gente."
   ]
  },
  {
   "cell_type": "code",
   "execution_count": 1,
   "metadata": {},
   "outputs": [],
   "source": [
    "#_autor_: Florencia Alonso"
   ]
  },
  {
   "cell_type": "code",
   "execution_count": null,
   "metadata": {},
   "outputs": [],
   "source": []
  }
 ],
 "metadata": {
  "kernelspec": {
   "display_name": "Python 3",
   "language": "python",
   "name": "python3"
  },
  "language_info": {
   "codemirror_mode": {
    "name": "ipython",
    "version": 3
   },
   "file_extension": ".py",
   "mimetype": "text/x-python",
   "name": "python",
   "nbconvert_exporter": "python",
   "pygments_lexer": "ipython3",
   "version": "3.6.9"
  }
 },
 "nbformat": 4,
 "nbformat_minor": 4
}
